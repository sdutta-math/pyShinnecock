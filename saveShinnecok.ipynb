{
 "cells": [
  {
   "cell_type": "code",
   "execution_count": 1,
   "id": "fd195b67",
   "metadata": {},
   "outputs": [],
   "source": [
    "#Load module\n",
    "import json\n",
    "import os\n",
    "import sys\n",
    "import argparse\n",
    "from pathlib import Path, PurePath\n",
    "import numpy as np\n",
    "import matplotlib.pyplot as plt\n",
    "\n",
    "try:\n",
    "    base_dir.exists()\n",
    "except NameError:\n",
    "    curr_dir = Path().resolve()\n",
    "    base_dir = curr_dir  \n",
    "\n",
    "data_dir = base_dir / \"data\" \n",
    "\n",
    "import settings as sett\n",
    "\n",
    "sys.path.append(str(data_dir.absolute()))\n",
    "\n",
    "import data_loader as dl \n",
    "\n",
    "\n",
    "key = ['h', 'u', 'v']\n",
    "day0 = sett.day0\n",
    "day1 = sett.day1\n",
    "days = [day0, day1]\n",
    "param_list = sett.param_list\n",
    "\n",
    "Np = len(param_list)"
   ]
  },
  {
   "cell_type": "markdown",
   "id": "27330975",
   "metadata": {},
   "source": [
    "## Save"
   ]
  },
  {
   "cell_type": "code",
   "execution_count": 3,
   "id": "829a47f0",
   "metadata": {
    "scrolled": false
   },
   "outputs": [],
   "source": [
    "\n",
    "\n",
    "mesh = dl.load_mesh(data_dir / \"ADCIRC_param_wet_30days\" / \"cf0025\")\n",
    "\n",
    "data_dict = {}\n",
    "for inx, param in enumerate(param_list):\n",
    "    dirname = 'cf' + str(param).split('.')[1]\n",
    "    data_dict[inx] = dl.load_variables(data_dir / \"ADCIRC_param_wet_30days\" / dirname)\n",
    "\n",
    "## Create Mesh file\n",
    "save_domain = {\n",
    "    'mesh': mesh,\n",
    "    'time': mesh['t'],\n",
    "    'bathy': data_dict[0]['bathy']\n",
    "}\n",
    "\n",
    "np.savez(data_dir / Path('shinnecock_domain.npz'), **save_domain)\n",
    "\n",
    "\n",
    "## Save state variables for each parameter\n",
    "for inx, param in enumerate(param_list):\n",
    "\n",
    "    save_data = {}\n",
    "\n",
    "    save_data['h'] = data_dict[inx]['h']\n",
    "    save_data['u'] = data_dict[inx]['u']\n",
    "    save_data['v'] = data_dict[inx]['v']\n",
    "\n",
    "    np.savez(data_dir / Path(f'shinnecock_{param}.npz'), **save_data)"
   ]
  }
 ],
 "metadata": {
  "kernelspec": {
   "display_name": "Python 3 (ipykernel)",
   "language": "python",
   "name": "python3"
  },
  "language_info": {
   "codemirror_mode": {
    "name": "ipython",
    "version": 3
   },
   "file_extension": ".py",
   "mimetype": "text/x-python",
   "name": "python",
   "nbconvert_exporter": "python",
   "pygments_lexer": "ipython3",
   "version": "3.9.16"
  }
 },
 "nbformat": 4,
 "nbformat_minor": 5
}
